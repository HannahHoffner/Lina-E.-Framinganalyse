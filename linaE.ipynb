{
 "cells": [
  {
   "cell_type": "code",
   "execution_count": 9,
   "metadata": {},
   "outputs": [],
   "source": [
    "from pprint import pprint\n",
    "import pandas as pd\n",
    "import numpy as np\n",
    "import matplotlib.pyplot as plt\n",
    "import seaborn as sns"
   ]
  },
  {
   "cell_type": "code",
   "execution_count": 10,
   "metadata": {},
   "outputs": [],
   "source": [
    "import praw\n",
    "\n",
    "user_agent = \"Scraper 1.0 by /u/HoneyMaHo\"\n",
    "reddit = praw.Reddit(\n",
    "    client_id=\"lA_wnJx2Qwy259Q_8vxzog\",\n",
    "    client_secret=\"TDwRHQ1WhHcgSJc3TL7lWBuUNE6foA\",\n",
    "    user_agent=user_agent\n",
    ")"
   ]
  },
  {
   "cell_type": "code",
   "execution_count": 17,
   "metadata": {},
   "outputs": [
    {
     "name": "stdout",
     "output_type": "stream",
     "text": [
      "Lina E.\n",
      "Free Lina E.\n",
      "Prozess gegen Lina E.: Studentin aus Leipzig zu mehr als fünf Jahren Haft verurteilt\n",
      "Die Stadt Leipzig verbietet Demonstration für Lina E. am Samstag\n",
      "Nach dem Ukraine-Krieg, Lüzerath und Lina E. ist da nicht viel übrig\n"
     ]
    }
   ],
   "source": [
    "alls = reddit.subreddit(\"all\")\n",
    "\n",
    "for submission in alls.search(\"Lina E\",sort = 'relevance', limit = 5):\n",
    "     print(submission.title)"
   ]
  },
  {
   "cell_type": "code",
   "execution_count": 19,
   "metadata": {},
   "outputs": [
    {
     "name": "stdout",
     "output_type": "stream",
     "text": [
      "                                               title  score       id  \\\n",
      "0                                            Lina E.     61  140hy0a   \n",
      "1                                       Free Lina E.    432  13z6069   \n",
      "2  Prozess gegen Lina E.: Studentin aus Leipzig z...   1083  13wglax   \n",
      "3  Nach dem Ukraine-Krieg, Lüzerath und Lina E. i...   1058  14igxe4   \n",
      "4  Die Stadt Leipzig verbietet Demonstration für ...    743  13xqsre   \n",
      "\n",
      "    subreddit                                                url  \\\n",
      "0   Anarchism  https://www.reddit.com/r/Anarchism/comments/14...   \n",
      "1  spacefrogs                https://i.redd.it/9agcqepmkr3b1.jpg   \n",
      "2          de  https://www.rnd.de/panorama/prozess-gegen-lina...   \n",
      "3       gekte                https://i.redd.it/hgjt7f6ek48b1.jpg   \n",
      "4          de  https://www.tagesschau.de/inland/regional/sach...   \n",
      "\n",
      "   num_comments                                               body  \\\n",
      "0            12  The state of Germany sided again with literal ...   \n",
      "1           254                                                      \n",
      "2           920                                                      \n",
      "3           225                                                      \n",
      "4           386                                                      \n",
      "\n",
      "        created  \n",
      "0  1.685896e+09  \n",
      "1  1.685781e+09  \n",
      "2  1.685523e+09  \n",
      "3  1.687682e+09  \n",
      "4  1.685648e+09  \n"
     ]
    }
   ],
   "source": [
    "# Erstellen Sie eine leere Liste, um die Daten zu speichern\n",
    "data = []\n",
    "\n",
    "# Durchsuchen Sie die Submissions\n",
    "for submission in alls.search(\"Lina E\", sort='relevance', limit=5):\n",
    "    # Fügen Sie die Daten jeder Submission der Liste hinzu\n",
    "    data.append([submission.title, submission.score, submission.id, submission.subreddit, submission.url, submission.num_comments, submission.selftext, submission.created])\n",
    "\n",
    "# Erstellen Sie ein DataFrame aus der Liste\n",
    "df = pd.DataFrame(data, columns=['title', 'score', 'id', 'subreddit', 'url', 'num_comments', 'body', 'created'])\n",
    "\n",
    "# Zeigen Sie das DataFrame an\n",
    "print(df)"
   ]
  },
  {
   "cell_type": "code",
   "execution_count": 20,
   "metadata": {},
   "outputs": [
    {
     "name": "stdout",
     "output_type": "stream",
     "text": [
      "                                               title  score       id  \\\n",
      "0                                            Lina E.     63  140hy0a   \n",
      "1                                       Free Lina E.    434  13z6069   \n",
      "2  Prozess gegen Lina E.: Studentin aus Leipzig z...   1082  13wglax   \n",
      "3  Nach dem Ukraine-Krieg, Lüzerath und Lina E. i...   1062  14igxe4   \n",
      "4  Die Stadt Leipzig verbietet Demonstration für ...    752  13xqsre   \n",
      "5  „Quatsch“ und „völlig übertrieben“: Grüne-Juge...    173  13wrf0e   \n",
      "6  Lina E.: Proteste in Leipzig spitzen sich zu –...    244  13znsfz   \n",
      "7  \"!Ich soll mit einem Nazi reden/ Verständnis g...     72  156er1i   \n",
      "8  Lina E. kommt gegen Auflagen frei | Die zu meh...    184  13wuc10   \n",
      "9  Wieduwilts Woche: Lina E. und die verstörende ...    118  13yjj1a   \n",
      "\n",
      "           subreddit                                                url  \\\n",
      "0          Anarchism  https://www.reddit.com/r/Anarchism/comments/14...   \n",
      "1         spacefrogs                https://i.redd.it/9agcqepmkr3b1.jpg   \n",
      "2                 de  https://www.rnd.de/panorama/prozess-gegen-lina...   \n",
      "3              gekte                https://i.redd.it/hgjt7f6ek48b1.jpg   \n",
      "4                 de  https://www.tagesschau.de/inland/regional/sach...   \n",
      "5                 de  https://www.tagesspiegel.de/politik/was-fur-ei...   \n",
      "6                 de  https://www.spiegel.de/panorama/lina-e-lina-pr...   \n",
      "7  asozialesnetzwerk  https://www.reddit.com/r/asozialesnetzwerk/com...   \n",
      "8                 de  https://www.spiegel.de/panorama/lina-e-kommt-g...   \n",
      "9                 de  https://www.n-tv.de/politik/politik_wieduwilts...   \n",
      "\n",
      "   num_comments                                               body  \\\n",
      "0            12  The state of Germany sided again with literal ...   \n",
      "1           254                                                      \n",
      "2           920                                                      \n",
      "3           225                                                      \n",
      "4           386                                                      \n",
      "5           189                                                      \n",
      "6           103                                                      \n",
      "7            12  [Original](https://www.youtube.com/watch?v=vH_...   \n",
      "8           112                                                      \n",
      "9           142                                                      \n",
      "\n",
      "        created                                           comments  \n",
      "0  1.685896e+09  [Sometimes it just feels so hopeless, what wit...  \n",
      "1  1.685781e+09  [Die Kommentarspalte 🍿, Warum Free Lina E.?\\n\\...  \n",
      "2  1.685523e+09  [[deleted], Also zum Strafmaß kann ich nix sag...  \n",
      "3  1.687682e+09  [Laut r/okbrudipolitik ist r/ich_iel ein kommu...  \n",
      "4  1.685648e+09  [Mich dünkt, es besteht eine gewisse Wahrschei...  \n",
      "5  1.685552e+09  [Klapp' die Antworten auf diesen Kommentar auf...  \n",
      "6  1.685823e+09  [Die Kommentarspalte ist ... interessant.    \\...  \n",
      "7  1.690016e+09  [Wenn jemand vom 52-Etagen-Hochhaus springt is...  \n",
      "8  1.685559e+09  [Klapp' die Antworten auf diesen Kommentar auf...  \n",
      "9  1.685728e+09  [>Der sehr talentierte Comedian und Autor \"El ...  \n"
     ]
    }
   ],
   "source": [
    "posts = []\n",
    "lina_subreddit = reddit.subreddit(\"all\")\n",
    "\n",
    "for submission in lina_subreddit.search(\"Lina E\", sort='relevance', limit=10):\n",
    "    submission.comments.replace_more(limit=None)\n",
    "    comments = []\n",
    "    for comment in submission.comments.list():\n",
    "        comments.append(comment.body)\n",
    "    posts.append([submission.title, submission.score, submission.id, submission.subreddit, submission.url, submission.num_comments, submission.selftext, submission.created, comments])\n",
    "\n",
    "posts = pd.DataFrame(posts,columns=['title', 'score', 'id', 'subreddit', 'url', 'num_comments', 'body', 'created', 'comments'])\n",
    "print(posts)"
   ]
  },
  {
   "cell_type": "code",
   "execution_count": 21,
   "metadata": {},
   "outputs": [],
   "source": [
    "import os\n",
    "\n",
    "posts = []\n",
    "lina_subreddit = reddit.subreddit(\"all\")\n",
    "count = 0\n",
    "\n",
    "for submission in lina_subreddit.search(\"Lina E\", sort='relevance', limit=None):\n",
    "    submission.comments.replace_more(limit=None)\n",
    "    comments = []\n",
    "    for comment in submission.comments.list():\n",
    "        comments.append(comment.body)\n",
    "    posts.append([submission.title, submission.score, submission.id, submission.subreddit, submission.url, submission.num_comments, submission.selftext, submission.created, comments])\n",
    "    count += 1\n",
    "\n",
    "    # Speichern Sie die Daten alle 100 Beiträge\n",
    "    if count % 100 == 0:\n",
    "        df = pd.DataFrame(posts,columns=['title', 'score', 'id', 'subreddit', 'url', 'num_comments', 'body', 'created', 'comments'])\n",
    "        if os.path.isfile('reddit_data.csv'):\n",
    "            df.to_csv('reddit_data.csv', mode='a', header=False)\n",
    "        else:\n",
    "            df.to_csv('reddit_data.csv')\n",
    "        posts = []\n",
    "\n",
    "# Speichern Sie alle verbleibenden Beiträge\n",
    "if posts:\n",
    "    df = pd.DataFrame(posts,columns=['title', 'score', 'id', 'subreddit', 'url', 'num_comments', 'body', 'created', 'comments'])\n",
    "    if os.path.isfile('reddit_data.csv'):\n",
    "        df.to_csv('reddit_data.csv', mode='a', header=False)\n",
    "    else:\n",
    "        df.to_csv('reddit_data.csv')"
   ]
  },
  {
   "cell_type": "code",
   "execution_count": 28,
   "metadata": {},
   "outputs": [
    {
     "name": "stdout",
     "output_type": "stream",
     "text": [
      "Anzahl der Einträge: 204\n",
      "   Unnamed: 0                                              title  score  \\\n",
      "0           0                                            Lina E.     61   \n",
      "1           1                                       Free Lina E.    432   \n",
      "2           2  Prozess gegen Lina E.: Studentin aus Leipzig z...   1080   \n",
      "3           3  Nach dem Ukraine-Krieg, Lüzerath und Lina E. i...   1056   \n",
      "4           4  Die Stadt Leipzig verbietet Demonstration für ...    744   \n",
      "\n",
      "        id   subreddit                                                url  \\\n",
      "0  140hy0a   Anarchism  https://www.reddit.com/r/Anarchism/comments/14...   \n",
      "1  13z6069  spacefrogs                https://i.redd.it/9agcqepmkr3b1.jpg   \n",
      "2  13wglax          de  https://www.rnd.de/panorama/prozess-gegen-lina...   \n",
      "3  14igxe4       gekte                https://i.redd.it/hgjt7f6ek48b1.jpg   \n",
      "4  13xqsre          de  https://www.tagesschau.de/inland/regional/sach...   \n",
      "\n",
      "   num_comments                                               body  \\\n",
      "0            12  The state of Germany sided again with literal ...   \n",
      "1           254                                                NaN   \n",
      "2           920                                                NaN   \n",
      "3           225                                                NaN   \n",
      "4           386                                                NaN   \n",
      "\n",
      "        created                                           comments  \n",
      "0  1.685896e+09  ['Sometimes it just feels so hopeless, what wi...  \n",
      "1  1.685781e+09  ['Die Kommentarspalte 🍿', 'Warum Free Lina E.?...  \n",
      "2  1.685523e+09  ['[deleted]', 'Also zum Strafmaß kann ich nix ...  \n",
      "3  1.687682e+09  ['Laut r/okbrudipolitik ist r/ich_iel ein komm...  \n",
      "4  1.685648e+09  ['Mich dünkt, es besteht eine gewisse Wahrsche...  \n"
     ]
    }
   ],
   "source": [
    "# Lesen Sie die CSV-Datei\n",
    "df = pd.read_csv('reddit_data.csv')\n",
    "\n",
    "# Drucken Sie die Anzahl der Einträge\n",
    "print('Anzahl der Einträge:', len(df))\n",
    "\n",
    "# Zeigen Sie die ersten Einträge an\n",
    "print(df.head())"
   ]
  },
  {
   "cell_type": "code",
   "execution_count": 29,
   "metadata": {},
   "outputs": [
    {
     "name": "stdout",
     "output_type": "stream",
     "text": [
      "Vamos aprender a falar algumas frases italianas e melhorar a pronúncia com esse trecho da música Chiaro di Lina de Jovanotti? 🇮🇹🎙️\n",
      "Eating PASTA Made From Baby Dolls In Real Life - Lina Tik Mukbang ASMR e...\n",
      "🚀Coin98 8.000% Lucro e Lina acumulando para explodir #wiwadigital #criptomoedas #btc #coin98 #lina🚀\n",
      "My collection so far, what would you guys add?\n"
     ]
    }
   ],
   "source": [
    "# Manuelles Prüfen auf Relevanz (Close Reading)\n",
    "# Durchlaufen aller Zeilen im DataFrame\n",
    "posts_df = pd.DataFrame(posts,columns=['title', 'score', 'id', 'subreddit', 'url', 'num_comments', 'body', 'created', 'comments'])\n",
    "\n",
    "# Durchlaufen Sie alle Zeilen im DataFrame\n",
    "for index, row in posts_df.iterrows():\n",
    "    # Drucken Sie den Titel der Beiträge\n",
    "    print(row['title'])"
   ]
  }
 ],
 "metadata": {
  "kernelspec": {
   "display_name": "cerenv",
   "language": "python",
   "name": "python3"
  },
  "language_info": {
   "codemirror_mode": {
    "name": "ipython",
    "version": 3
   },
   "file_extension": ".py",
   "mimetype": "text/x-python",
   "name": "python",
   "nbconvert_exporter": "python",
   "pygments_lexer": "ipython3",
   "version": "3.11.3"
  },
  "orig_nbformat": 4
 },
 "nbformat": 4,
 "nbformat_minor": 2
}
